{
  "nbformat": 4,
  "nbformat_minor": 0,
  "metadata": {
    "colab": {
      "provenance": [],
      "authorship_tag": "ABX9TyPHEYlqPNUzS5uXxtZsu07P",
      "include_colab_link": true
    },
    "kernelspec": {
      "name": "python3",
      "display_name": "Python 3"
    },
    "language_info": {
      "name": "python"
    }
  },
  "cells": [
    {
      "cell_type": "markdown",
      "metadata": {
        "id": "view-in-github",
        "colab_type": "text"
      },
      "source": [
        "<a href=\"https://colab.research.google.com/github/adenehemia09/Alia-AI-Chatbot/blob/main/alia_ai_chatbot.ipynb\" target=\"_parent\"><img src=\"https://colab.research.google.com/assets/colab-badge.svg\" alt=\"Open In Colab\"/></a>"
      ]
    },
    {
      "cell_type": "code",
      "execution_count": null,
      "metadata": {
        "id": "BB8TCWPkgV30",
        "colab": {
          "base_uri": "https://localhost:8080/"
        },
        "outputId": "9131a2f7-e52a-48e3-9ad1-f53fbc37a7fa"
      },
      "outputs": [
        {
          "output_type": "stream",
          "name": "stdout",
          "text": [
            "Drive already mounted at /content/drive; to attempt to forcibly remount, call drive.mount(\"/content/drive\", force_remount=True).\n",
            "Drive already mounted at /content/drive; to attempt to forcibly remount, call drive.mount(\"/content/drive\", force_remount=True).\n"
          ]
        }
      ],
      "source": [
        "from google.colab import drive\n",
        "drive.mount('/content/drive')"
      ]
    },
    {
      "cell_type": "code",
      "source": [
        "import string\n",
        "import pickle\n",
        "import numpy as np\n",
        "import pandas as pd\n",
        "from sklearn.feature_extraction.text import CountVectorizer\n",
        "from sklearn.naive_bayes import MultinomialNB\n",
        "from sklearn.pipeline import make_pipeline\n",
        "import json"
      ],
      "metadata": {
        "id": "5sWkALdHW4lA"
      },
      "execution_count": null,
      "outputs": []
    },
    {
      "cell_type": "code",
      "source": [
        "import json\n",
        "import pandas as pd\n",
        "from random import choice\n",
        "\n",
        "\n",
        "class JSONParser:\n",
        "    def __init__(self):\n",
        "        self.text = []\n",
        "        self.intents = []\n",
        "        self.responses = {}\n",
        "\n",
        "    def parse(self, json_path):\n",
        "        with open(json_path) as data_file:\n",
        "            self.data = json.load(data_file)\n",
        "\n",
        "        for intent in self.data['intents']:\n",
        "            for pattern in intent['patterns']:\n",
        "                self.text.append(pattern)\n",
        "                self.intents.append(intent['tag'])\n",
        "            for resp in intent['responses']:\n",
        "                if intent['tag'] in self.responses.keys():\n",
        "                    self.responses[intent['tag']].append(resp)\n",
        "                else:\n",
        "                    self.responses[intent['tag']] = [resp]\n",
        "\n",
        "        self.df = pd.DataFrame({'text_input': self.text,\n",
        "                                'intents': self.intents})\n",
        "\n",
        "        print(\n",
        "            f\"[INFO] Data JSON converted to DataFrame with shape : {self.df.shape}\")\n",
        "\n",
        "    def get_dataframe(self):\n",
        "        return self.df\n",
        "\n",
        "    def get_response(self, intent):\n",
        "        return choice(self.responses[intent])"
      ],
      "metadata": {
        "id": "JkTOAmbNfpCH"
      },
      "execution_count": null,
      "outputs": []
    },
    {
      "cell_type": "code",
      "source": [
        "# load data\n",
        "path = \"/content/drive/MyDrive/ Bisa AI/NLP/Chat Bot/new_intents.json\"\n",
        "\n",
        "# buat objek JSONParser dan parse data intents.json\n",
        "jp = JSONParser()\n",
        "jp.parse(path)\n",
        "\n",
        "# simpan dataframe dalam variabel df\n",
        "df = jp.get_dataframe()"
      ],
      "metadata": {
        "id": "aRrOCriXf9lO",
        "colab": {
          "base_uri": "https://localhost:8080/"
        },
        "outputId": "58b49b2f-2135-4f42-beea-80c9c129a274"
      },
      "execution_count": null,
      "outputs": [
        {
          "output_type": "stream",
          "name": "stdout",
          "text": [
            "[INFO] Data JSON converted to DataFrame with shape : (134, 2)\n"
          ]
        }
      ]
    },
    {
      "cell_type": "code",
      "source": [
        "# lihat 5 data pertama\n",
        "df.head(10)"
      ],
      "metadata": {
        "id": "OIs7x2YZYulF",
        "colab": {
          "base_uri": "https://localhost:8080/",
          "height": 363
        },
        "outputId": "32de4710-2750-48ca-a5a5-43b6347606d8"
      },
      "execution_count": null,
      "outputs": [
        {
          "output_type": "execute_result",
          "data": {
            "text/plain": [
              "         text_input intents\n",
              "0               Hai   salam\n",
              "1                Hi   salam\n",
              "2              Halo   salam\n",
              "3              Helo   salam\n",
              "4             Hello   salam\n",
              "5             Hallo   salam\n",
              "6                 P   salam\n",
              "7              Ping   salam\n",
              "8  Nama kamu siapa?    nama\n",
              "9     lu siapa sih?    nama"
            ],
            "text/html": [
              "\n",
              "  <div id=\"df-46c23aa0-0334-4b93-8427-9aaf9de99d1c\">\n",
              "    <div class=\"colab-df-container\">\n",
              "      <div>\n",
              "<style scoped>\n",
              "    .dataframe tbody tr th:only-of-type {\n",
              "        vertical-align: middle;\n",
              "    }\n",
              "\n",
              "    .dataframe tbody tr th {\n",
              "        vertical-align: top;\n",
              "    }\n",
              "\n",
              "    .dataframe thead th {\n",
              "        text-align: right;\n",
              "    }\n",
              "</style>\n",
              "<table border=\"1\" class=\"dataframe\">\n",
              "  <thead>\n",
              "    <tr style=\"text-align: right;\">\n",
              "      <th></th>\n",
              "      <th>text_input</th>\n",
              "      <th>intents</th>\n",
              "    </tr>\n",
              "  </thead>\n",
              "  <tbody>\n",
              "    <tr>\n",
              "      <th>0</th>\n",
              "      <td>Hai</td>\n",
              "      <td>salam</td>\n",
              "    </tr>\n",
              "    <tr>\n",
              "      <th>1</th>\n",
              "      <td>Hi</td>\n",
              "      <td>salam</td>\n",
              "    </tr>\n",
              "    <tr>\n",
              "      <th>2</th>\n",
              "      <td>Halo</td>\n",
              "      <td>salam</td>\n",
              "    </tr>\n",
              "    <tr>\n",
              "      <th>3</th>\n",
              "      <td>Helo</td>\n",
              "      <td>salam</td>\n",
              "    </tr>\n",
              "    <tr>\n",
              "      <th>4</th>\n",
              "      <td>Hello</td>\n",
              "      <td>salam</td>\n",
              "    </tr>\n",
              "    <tr>\n",
              "      <th>5</th>\n",
              "      <td>Hallo</td>\n",
              "      <td>salam</td>\n",
              "    </tr>\n",
              "    <tr>\n",
              "      <th>6</th>\n",
              "      <td>P</td>\n",
              "      <td>salam</td>\n",
              "    </tr>\n",
              "    <tr>\n",
              "      <th>7</th>\n",
              "      <td>Ping</td>\n",
              "      <td>salam</td>\n",
              "    </tr>\n",
              "    <tr>\n",
              "      <th>8</th>\n",
              "      <td>Nama kamu siapa?</td>\n",
              "      <td>nama</td>\n",
              "    </tr>\n",
              "    <tr>\n",
              "      <th>9</th>\n",
              "      <td>lu siapa sih?</td>\n",
              "      <td>nama</td>\n",
              "    </tr>\n",
              "  </tbody>\n",
              "</table>\n",
              "</div>\n",
              "      <button class=\"colab-df-convert\" onclick=\"convertToInteractive('df-46c23aa0-0334-4b93-8427-9aaf9de99d1c')\"\n",
              "              title=\"Convert this dataframe to an interactive table.\"\n",
              "              style=\"display:none;\">\n",
              "        \n",
              "  <svg xmlns=\"http://www.w3.org/2000/svg\" height=\"24px\"viewBox=\"0 0 24 24\"\n",
              "       width=\"24px\">\n",
              "    <path d=\"M0 0h24v24H0V0z\" fill=\"none\"/>\n",
              "    <path d=\"M18.56 5.44l.94 2.06.94-2.06 2.06-.94-2.06-.94-.94-2.06-.94 2.06-2.06.94zm-11 1L8.5 8.5l.94-2.06 2.06-.94-2.06-.94L8.5 2.5l-.94 2.06-2.06.94zm10 10l.94 2.06.94-2.06 2.06-.94-2.06-.94-.94-2.06-.94 2.06-2.06.94z\"/><path d=\"M17.41 7.96l-1.37-1.37c-.4-.4-.92-.59-1.43-.59-.52 0-1.04.2-1.43.59L10.3 9.45l-7.72 7.72c-.78.78-.78 2.05 0 2.83L4 21.41c.39.39.9.59 1.41.59.51 0 1.02-.2 1.41-.59l7.78-7.78 2.81-2.81c.8-.78.8-2.07 0-2.86zM5.41 20L4 18.59l7.72-7.72 1.47 1.35L5.41 20z\"/>\n",
              "  </svg>\n",
              "      </button>\n",
              "      \n",
              "  <style>\n",
              "    .colab-df-container {\n",
              "      display:flex;\n",
              "      flex-wrap:wrap;\n",
              "      gap: 12px;\n",
              "    }\n",
              "\n",
              "    .colab-df-convert {\n",
              "      background-color: #E8F0FE;\n",
              "      border: none;\n",
              "      border-radius: 50%;\n",
              "      cursor: pointer;\n",
              "      display: none;\n",
              "      fill: #1967D2;\n",
              "      height: 32px;\n",
              "      padding: 0 0 0 0;\n",
              "      width: 32px;\n",
              "    }\n",
              "\n",
              "    .colab-df-convert:hover {\n",
              "      background-color: #E2EBFA;\n",
              "      box-shadow: 0px 1px 2px rgba(60, 64, 67, 0.3), 0px 1px 3px 1px rgba(60, 64, 67, 0.15);\n",
              "      fill: #174EA6;\n",
              "    }\n",
              "\n",
              "    [theme=dark] .colab-df-convert {\n",
              "      background-color: #3B4455;\n",
              "      fill: #D2E3FC;\n",
              "    }\n",
              "\n",
              "    [theme=dark] .colab-df-convert:hover {\n",
              "      background-color: #434B5C;\n",
              "      box-shadow: 0px 1px 3px 1px rgba(0, 0, 0, 0.15);\n",
              "      filter: drop-shadow(0px 1px 2px rgba(0, 0, 0, 0.3));\n",
              "      fill: #FFFFFF;\n",
              "    }\n",
              "  </style>\n",
              "\n",
              "      <script>\n",
              "        const buttonEl =\n",
              "          document.querySelector('#df-46c23aa0-0334-4b93-8427-9aaf9de99d1c button.colab-df-convert');\n",
              "        buttonEl.style.display =\n",
              "          google.colab.kernel.accessAllowed ? 'block' : 'none';\n",
              "\n",
              "        async function convertToInteractive(key) {\n",
              "          const element = document.querySelector('#df-46c23aa0-0334-4b93-8427-9aaf9de99d1c');\n",
              "          const dataTable =\n",
              "            await google.colab.kernel.invokeFunction('convertToInteractive',\n",
              "                                                     [key], {});\n",
              "          if (!dataTable) return;\n",
              "\n",
              "          const docLinkHtml = 'Like what you see? Visit the ' +\n",
              "            '<a target=\"_blank\" href=https://colab.research.google.com/notebooks/data_table.ipynb>data table notebook</a>'\n",
              "            + ' to learn more about interactive tables.';\n",
              "          element.innerHTML = '';\n",
              "          dataTable['output_type'] = 'display_data';\n",
              "          await google.colab.output.renderOutput(dataTable, element);\n",
              "          const docLink = document.createElement('div');\n",
              "          docLink.innerHTML = docLinkHtml;\n",
              "          element.appendChild(docLink);\n",
              "        }\n",
              "      </script>\n",
              "    </div>\n",
              "  </div>\n",
              "  "
            ]
          },
          "metadata": {},
          "execution_count": 36
        }
      ]
    },
    {
      "cell_type": "code",
      "source": [
        "# hitung jumlah data per tag / inten\n",
        "df.intents.value_counts()"
      ],
      "metadata": {
        "id": "_6xrx2JDgF01",
        "colab": {
          "base_uri": "https://localhost:8080/"
        },
        "outputId": "d7310122-992a-4efd-a8a2-d9a5823147e8"
      },
      "execution_count": null,
      "outputs": [
        {
          "output_type": "execute_result",
          "data": {
            "text/plain": [
              "bye                                14\n",
              "nama                               10\n",
              "kulit-berjerawat                    9\n",
              "rambut                              9\n",
              "kulit-berminyak-dan-kulit-kusam     8\n",
              "salam                               8\n",
              "nama-toko                           7\n",
              "komplaintime                        7\n",
              "salahkirim                          7\n",
              "kemampuan                           6\n",
              "super-sale                          6\n",
              "tanyaWaktuPenggunaanMasker          6\n",
              "tanyaisiserum                       6\n",
              "barangrusak                         6\n",
              "infotoko                            5\n",
              "oil-control                         5\n",
              "tanyaPenggunaanMasker               5\n",
              "tanyapemakaianserum                 5\n",
              "serumAndMask                        5\n",
              "Name: intents, dtype: int64"
            ]
          },
          "metadata": {},
          "execution_count": 37
        }
      ]
    },
    {
      "cell_type": "code",
      "source": [
        "def preprocess(chat):\n",
        "    \"\"\"\n",
        "    Fungsi yang digunakan untuk melakukan praproses\n",
        "    \"\"\"\n",
        "    # konversi ke lowercase\n",
        "    chat = chat.lower()\n",
        "    # menghapus tanda baca\n",
        "    tandabaca = tuple(string.punctuation)\n",
        "    chat = ''.join(ch for ch in chat if ch not in tandabaca)\n",
        "    return chat"
      ],
      "metadata": {
        "id": "8cdEhyNRfukE"
      },
      "execution_count": null,
      "outputs": []
    },
    {
      "cell_type": "code",
      "source": [
        "# implementasikan fungsi preprocess ke string\n",
        "df['text_input_prep'] = df.text_input.apply(preprocess)"
      ],
      "metadata": {
        "id": "havWKzEibFqI"
      },
      "execution_count": null,
      "outputs": []
    },
    {
      "cell_type": "code",
      "source": [
        "df[['text_input', 'text_input_prep']].head(10)"
      ],
      "metadata": {
        "id": "YZBvJ4kYdHQv",
        "colab": {
          "base_uri": "https://localhost:8080/",
          "height": 363
        },
        "outputId": "284dc883-63f4-462f-c202-45ffc7dbc95d"
      },
      "execution_count": null,
      "outputs": [
        {
          "output_type": "execute_result",
          "data": {
            "text/plain": [
              "         text_input  text_input_prep\n",
              "0               Hai              hai\n",
              "1                Hi               hi\n",
              "2              Halo             halo\n",
              "3              Helo             helo\n",
              "4             Hello            hello\n",
              "5             Hallo            hallo\n",
              "6                 P                p\n",
              "7              Ping             ping\n",
              "8  Nama kamu siapa?  nama kamu siapa\n",
              "9     lu siapa sih?     lu siapa sih"
            ],
            "text/html": [
              "\n",
              "  <div id=\"df-504d2830-7cdc-491f-b258-bcdce49baaf2\">\n",
              "    <div class=\"colab-df-container\">\n",
              "      <div>\n",
              "<style scoped>\n",
              "    .dataframe tbody tr th:only-of-type {\n",
              "        vertical-align: middle;\n",
              "    }\n",
              "\n",
              "    .dataframe tbody tr th {\n",
              "        vertical-align: top;\n",
              "    }\n",
              "\n",
              "    .dataframe thead th {\n",
              "        text-align: right;\n",
              "    }\n",
              "</style>\n",
              "<table border=\"1\" class=\"dataframe\">\n",
              "  <thead>\n",
              "    <tr style=\"text-align: right;\">\n",
              "      <th></th>\n",
              "      <th>text_input</th>\n",
              "      <th>text_input_prep</th>\n",
              "    </tr>\n",
              "  </thead>\n",
              "  <tbody>\n",
              "    <tr>\n",
              "      <th>0</th>\n",
              "      <td>Hai</td>\n",
              "      <td>hai</td>\n",
              "    </tr>\n",
              "    <tr>\n",
              "      <th>1</th>\n",
              "      <td>Hi</td>\n",
              "      <td>hi</td>\n",
              "    </tr>\n",
              "    <tr>\n",
              "      <th>2</th>\n",
              "      <td>Halo</td>\n",
              "      <td>halo</td>\n",
              "    </tr>\n",
              "    <tr>\n",
              "      <th>3</th>\n",
              "      <td>Helo</td>\n",
              "      <td>helo</td>\n",
              "    </tr>\n",
              "    <tr>\n",
              "      <th>4</th>\n",
              "      <td>Hello</td>\n",
              "      <td>hello</td>\n",
              "    </tr>\n",
              "    <tr>\n",
              "      <th>5</th>\n",
              "      <td>Hallo</td>\n",
              "      <td>hallo</td>\n",
              "    </tr>\n",
              "    <tr>\n",
              "      <th>6</th>\n",
              "      <td>P</td>\n",
              "      <td>p</td>\n",
              "    </tr>\n",
              "    <tr>\n",
              "      <th>7</th>\n",
              "      <td>Ping</td>\n",
              "      <td>ping</td>\n",
              "    </tr>\n",
              "    <tr>\n",
              "      <th>8</th>\n",
              "      <td>Nama kamu siapa?</td>\n",
              "      <td>nama kamu siapa</td>\n",
              "    </tr>\n",
              "    <tr>\n",
              "      <th>9</th>\n",
              "      <td>lu siapa sih?</td>\n",
              "      <td>lu siapa sih</td>\n",
              "    </tr>\n",
              "  </tbody>\n",
              "</table>\n",
              "</div>\n",
              "      <button class=\"colab-df-convert\" onclick=\"convertToInteractive('df-504d2830-7cdc-491f-b258-bcdce49baaf2')\"\n",
              "              title=\"Convert this dataframe to an interactive table.\"\n",
              "              style=\"display:none;\">\n",
              "        \n",
              "  <svg xmlns=\"http://www.w3.org/2000/svg\" height=\"24px\"viewBox=\"0 0 24 24\"\n",
              "       width=\"24px\">\n",
              "    <path d=\"M0 0h24v24H0V0z\" fill=\"none\"/>\n",
              "    <path d=\"M18.56 5.44l.94 2.06.94-2.06 2.06-.94-2.06-.94-.94-2.06-.94 2.06-2.06.94zm-11 1L8.5 8.5l.94-2.06 2.06-.94-2.06-.94L8.5 2.5l-.94 2.06-2.06.94zm10 10l.94 2.06.94-2.06 2.06-.94-2.06-.94-.94-2.06-.94 2.06-2.06.94z\"/><path d=\"M17.41 7.96l-1.37-1.37c-.4-.4-.92-.59-1.43-.59-.52 0-1.04.2-1.43.59L10.3 9.45l-7.72 7.72c-.78.78-.78 2.05 0 2.83L4 21.41c.39.39.9.59 1.41.59.51 0 1.02-.2 1.41-.59l7.78-7.78 2.81-2.81c.8-.78.8-2.07 0-2.86zM5.41 20L4 18.59l7.72-7.72 1.47 1.35L5.41 20z\"/>\n",
              "  </svg>\n",
              "      </button>\n",
              "      \n",
              "  <style>\n",
              "    .colab-df-container {\n",
              "      display:flex;\n",
              "      flex-wrap:wrap;\n",
              "      gap: 12px;\n",
              "    }\n",
              "\n",
              "    .colab-df-convert {\n",
              "      background-color: #E8F0FE;\n",
              "      border: none;\n",
              "      border-radius: 50%;\n",
              "      cursor: pointer;\n",
              "      display: none;\n",
              "      fill: #1967D2;\n",
              "      height: 32px;\n",
              "      padding: 0 0 0 0;\n",
              "      width: 32px;\n",
              "    }\n",
              "\n",
              "    .colab-df-convert:hover {\n",
              "      background-color: #E2EBFA;\n",
              "      box-shadow: 0px 1px 2px rgba(60, 64, 67, 0.3), 0px 1px 3px 1px rgba(60, 64, 67, 0.15);\n",
              "      fill: #174EA6;\n",
              "    }\n",
              "\n",
              "    [theme=dark] .colab-df-convert {\n",
              "      background-color: #3B4455;\n",
              "      fill: #D2E3FC;\n",
              "    }\n",
              "\n",
              "    [theme=dark] .colab-df-convert:hover {\n",
              "      background-color: #434B5C;\n",
              "      box-shadow: 0px 1px 3px 1px rgba(0, 0, 0, 0.15);\n",
              "      filter: drop-shadow(0px 1px 2px rgba(0, 0, 0, 0.3));\n",
              "      fill: #FFFFFF;\n",
              "    }\n",
              "  </style>\n",
              "\n",
              "      <script>\n",
              "        const buttonEl =\n",
              "          document.querySelector('#df-504d2830-7cdc-491f-b258-bcdce49baaf2 button.colab-df-convert');\n",
              "        buttonEl.style.display =\n",
              "          google.colab.kernel.accessAllowed ? 'block' : 'none';\n",
              "\n",
              "        async function convertToInteractive(key) {\n",
              "          const element = document.querySelector('#df-504d2830-7cdc-491f-b258-bcdce49baaf2');\n",
              "          const dataTable =\n",
              "            await google.colab.kernel.invokeFunction('convertToInteractive',\n",
              "                                                     [key], {});\n",
              "          if (!dataTable) return;\n",
              "\n",
              "          const docLinkHtml = 'Like what you see? Visit the ' +\n",
              "            '<a target=\"_blank\" href=https://colab.research.google.com/notebooks/data_table.ipynb>data table notebook</a>'\n",
              "            + ' to learn more about interactive tables.';\n",
              "          element.innerHTML = '';\n",
              "          dataTable['output_type'] = 'display_data';\n",
              "          await google.colab.output.renderOutput(dataTable, element);\n",
              "          const docLink = document.createElement('div');\n",
              "          docLink.innerHTML = docLinkHtml;\n",
              "          element.appendChild(docLink);\n",
              "        }\n",
              "      </script>\n",
              "    </div>\n",
              "  </div>\n",
              "  "
            ]
          },
          "metadata": {},
          "execution_count": 40
        }
      ]
    },
    {
      "cell_type": "code",
      "source": [
        "# inisiasi objek CountVectorizer\n",
        "vect = CountVectorizer()"
      ],
      "metadata": {
        "id": "T6ki37rVgoil"
      },
      "execution_count": null,
      "outputs": []
    },
    {
      "cell_type": "code",
      "source": [
        "# mengumpulkan vocab dari data teks yang sudah dilakukan praproses\n",
        "vect.fit(df['text_input_prep'])"
      ],
      "metadata": {
        "id": "dhMXTFIggrsV",
        "colab": {
          "base_uri": "https://localhost:8080/"
        },
        "outputId": "033853ab-8f0d-4b6d-acd6-b5b4f585a76c"
      },
      "execution_count": null,
      "outputs": [
        {
          "output_type": "execute_result",
          "data": {
            "text/plain": [
              "CountVectorizer()"
            ]
          },
          "metadata": {},
          "execution_count": 42
        }
      ]
    },
    {
      "cell_type": "code",
      "source": [
        "# lihat list vocab\n",
        "vect.get_feature_names()[:20] #batasi hanya 10 vocab teratas"
      ],
      "metadata": {
        "id": "CAXvZWEpgu1L",
        "colab": {
          "base_uri": "https://localhost:8080/"
        },
        "outputId": "b8c1627e-4251-4eb0-e9a3-3ff6ae79113a"
      },
      "execution_count": null,
      "outputs": [
        {
          "output_type": "stream",
          "name": "stderr",
          "text": [
            "/usr/local/lib/python3.7/dist-packages/sklearn/utils/deprecation.py:87: FutureWarning: Function get_feature_names is deprecated; get_feature_names is deprecated in 1.0 and will be removed in 1.2. Please use get_feature_names_out instead.\n",
            "  warnings.warn(msg, category=FutureWarning)\n"
          ]
        },
        {
          "output_type": "execute_result",
          "data": {
            "text/plain": [
              "['ad',\n",
              " 'ada',\n",
              " 'adakah',\n",
              " 'aj',\n",
              " 'aja',\n",
              " 'ajuran',\n",
              " 'alia',\n",
              " 'anjuran',\n",
              " 'ap',\n",
              " 'apa',\n",
              " 'apakah',\n",
              " 'atas',\n",
              " 'atau',\n",
              " 'bagaimana',\n",
              " 'banget',\n",
              " 'banrang',\n",
              " 'barang',\n",
              " 'barangnya',\n",
              " 'beraktifitas',\n",
              " 'berapa']"
            ]
          },
          "metadata": {},
          "execution_count": 43
        }
      ]
    },
    {
      "cell_type": "code",
      "source": [
        "# ubah data teks menjadi matriks\n",
        "text_vect = vect.transform(df.text_input_prep)\n",
        "\n",
        "text_vect"
      ],
      "metadata": {
        "id": "ztW7ue_-gwF4",
        "colab": {
          "base_uri": "https://localhost:8080/"
        },
        "outputId": "16d94cfd-5b88-4256-9c42-77ab699f643f"
      },
      "execution_count": null,
      "outputs": [
        {
          "output_type": "execute_result",
          "data": {
            "text/plain": [
              "<134x160 sparse matrix of type '<class 'numpy.int64'>'\n",
              "\twith 642 stored elements in Compressed Sparse Row format>"
            ]
          },
          "metadata": {},
          "execution_count": 44
        }
      ]
    },
    {
      "cell_type": "code",
      "source": [
        "# deklarasi objek MultinomialNB\n",
        "nb = MultinomialNB()\n",
        "\n",
        "# training data, dengan X : text_vect dan y : intents\n",
        "nb.fit(text_vect, df.intents)"
      ],
      "metadata": {
        "id": "5kmgoQzdbi-5",
        "colab": {
          "base_uri": "https://localhost:8080/"
        },
        "outputId": "7f43e669-04ed-4af6-f610-f590ded5436e"
      },
      "execution_count": null,
      "outputs": [
        {
          "output_type": "execute_result",
          "data": {
            "text/plain": [
              "MultinomialNB()"
            ]
          },
          "metadata": {},
          "execution_count": 45
        }
      ]
    },
    {
      "cell_type": "code",
      "source": [
        "# input string dari user\n",
        "chat = input(\"Masukkan String : \")\n",
        "\n",
        "# lakukan preproses\n",
        "chat = preprocess(chat)\n",
        "\n",
        "# ubah teks menjadi vektor\n",
        "chat = vect.transform([chat])\n",
        "\n",
        "# prediksi vektor teks kedalam model machine learning\n",
        "res = nb.predict(chat)\n",
        "\n",
        "# tampilkan hasil prediksi\n",
        "print(f\"Hasil prediksi : {res[0]}\")"
      ],
      "metadata": {
        "id": "7vXR8Rewbm_U",
        "colab": {
          "base_uri": "https://localhost:8080/"
        },
        "outputId": "1b23663c-866a-4519-e493-08702c09919b"
      },
      "execution_count": null,
      "outputs": [
        {
          "output_type": "stream",
          "name": "stdout",
          "text": [
            "Masukkan String : hi\n",
            "Hasil prediksi : salam\n"
          ]
        }
      ]
    },
    {
      "cell_type": "code",
      "source": [
        "# input string dari user\n",
        "chat = input(\"Masukkan String : \")\n",
        "\n",
        "# lakukan preproses\n",
        "chat = preprocess(chat)\n",
        "\n",
        "# ubah teks menjadi vektor\n",
        "chat = vect.transform([chat])\n",
        "\n",
        "# prediksi vektor teks kedalam model machine learning\n",
        "res = nb.predict_proba(chat)\n",
        "\n",
        "# ambil nilai probabilitas tertinggi\n",
        "max_prob = max(res[0])\n",
        "max_idx = np.argmax(res[0])\n",
        "print(f\"Max Prob : {max_prob}\\nMax Index: {max_idx}\\nLabel: {nb.classes_[max_idx]}\")"
      ],
      "metadata": {
        "id": "XhuUhM1-btId",
        "colab": {
          "base_uri": "https://localhost:8080/"
        },
        "outputId": "526b7c8c-d527-4b83-c973-d2be4f759982"
      },
      "execution_count": null,
      "outputs": [
        {
          "output_type": "stream",
          "name": "stdout",
          "text": [
            "Masukkan String : nama lu siape?\n",
            "Max Prob : 0.6002995097051386\n",
            "Max Index: 7\n",
            "Label: nama\n"
          ]
        }
      ]
    },
    {
      "cell_type": "code",
      "source": [
        "# Deklarasi pipeline yang mengandung vektorisasi (CountVectorizer) & pemodelan (MultinomialNB) \n",
        "pipe = make_pipeline(CountVectorizer(),\n",
        "                     MultinomialNB())\n",
        "\n",
        "# Training\n",
        "pipe.fit(df.text_input, df.intents)"
      ],
      "metadata": {
        "id": "UUCbVDcjb058",
        "colab": {
          "base_uri": "https://localhost:8080/"
        },
        "outputId": "c399ce16-71d8-48ec-acb8-c75d58a4568f"
      },
      "execution_count": null,
      "outputs": [
        {
          "output_type": "execute_result",
          "data": {
            "text/plain": [
              "Pipeline(steps=[('countvectorizer', CountVectorizer()),\n",
              "                ('multinomialnb', MultinomialNB())])"
            ]
          },
          "metadata": {},
          "execution_count": 48
        }
      ]
    },
    {
      "cell_type": "code",
      "source": [
        "# input string dari user\n",
        "chat = input(\"Masukkan String : \")\n",
        "\n",
        "# lakukan preproses\n",
        "chat = preprocess(chat)\n",
        "\n",
        "# prediksi teks kedalam pipeline\n",
        "res = pipe.predict_proba([chat])\n",
        "\n",
        "# ambil nilai probabilitas tertinggi\n",
        "max_prob = max(res[0])\n",
        "max_idx = np.argmax(res[0])\n",
        "print(f\"Max Prob : {max_prob}\\nMax Index: {max_idx}\\nLabel: {nb.classes_[max_idx]}\")"
      ],
      "metadata": {
        "id": "sdGHbKiKb306",
        "colab": {
          "base_uri": "https://localhost:8080/"
        },
        "outputId": "e5387a9d-89b0-4deb-beb1-b7f31166876c"
      },
      "execution_count": null,
      "outputs": [
        {
          "output_type": "stream",
          "name": "stdout",
          "text": [
            "Masukkan String : hi\n",
            "Max Prob : 0.12991580615160164\n",
            "Max Index: 12\n",
            "Label: salam\n"
          ]
        }
      ]
    },
    {
      "cell_type": "code",
      "source": [
        "print(\"Garnier Men Official Store\")\n",
        "print(\"Anda Terhubung dengan chatbot Kami\")\n",
        "while True:\n",
        "    # input user\n",
        "    chat = input(\"Anda : \")\n",
        "    # praproses\n",
        "    chat = preprocess(chat)\n",
        "    # prediksi intent\n",
        "    res = pipe.predict_proba([chat])\n",
        "    # ambil nilai probabilitas & lokasinya\n",
        "    max_prob = max(res[0])\n",
        "    max_idx = np.argmax(res[0])\n",
        "    # kondisi jika probabilitas kurang dari threshold\n",
        "    if max_prob < 0.10:\n",
        "        print(\"Bot : Maaf Kak, aku ga ngerti\")\n",
        "    else:\n",
        "        print(f\"Bot : {jp.get_response(nb.classes_[max_idx])}\")\n",
        "    if nb.classes_[max_idx] == 'bye':\n",
        "        break"
      ],
      "metadata": {
        "colab": {
          "base_uri": "https://localhost:8080/"
        },
        "id": "aR1bGVOSb9y5",
        "outputId": "257f33e0-6c3e-460d-8e82-94682e335d02"
      },
      "execution_count": null,
      "outputs": [
        {
          "output_type": "stream",
          "name": "stdout",
          "text": [
            "Garnier Men Official Store\n",
            "Anda Terhubung dengan chatbot Kami\n",
            "Anda : hallo\n",
            "Bot : Hallo kak, ada yang bisa saya bantu?\n",
            "Anda : nama lu siapa sih?\n",
            "Bot : Saya \"Alia\" Yah, semacam nama panggilan.\n",
            "Anda : jam brp tokonya buka, min\"\n",
            "Bot : Sahabat garnier, Terima kasih sudah menunggu respon kami.\n",
            "     Toko beroprasi pukul \"08:00-11:00 WIB\". Pesanan yang lewat pukul \"11:00\" akan dioprasi kembali.\n",
            "     Semoga informasi ini bisa membantu ya, sobat. Terima kasih.\n",
            "Anda : LU bisa apa aja?\n",
            "Bot : Kakak bisa membeli produk \"Garnier Men\" dengan menuliskan nama produk!\n",
            "Anda : Produk apa yang cocok buat wajah yang kusam dan berminyak?\n",
            "Bot : Baik kak, Untuk \"Kulit berminya dan kusam\" bisa kunjungi etalase \"Garnier Men\" di https://www.tokopedia.com/garniermen/etalase/kulit-berminyak-dan-kulit-kusam \n",
            "Anda : kalau untuk kulit berjerawat bagaimana?\n",
            "Bot : Untuk masalah \"kulit berjerawat\", bisa kunjungi tokoh kami di https://www.tokopedia.com/garniermen/etalase/kulit-berjerawat\n",
            "Anda : saya punya masalah kulit yang berminyak, kira-kira produk apa yang cocok ya?\n",
            "Bot : Untuk produk mengatasi masalah kulit berminyak, kakak bisa kunjungi di https://www.tokopedia.com/garniermen/etalase/oil-control\n",
            "Anda : adakah super sale hari ini?\n",
            "Bot : Hari yang baik, \"Garnier Men\" ada banyak super sale kunjungi di https://www.tokopedia.com/garniermen/etalase/super-sale\n",
            "Anda : apakah ada produk untuk perawatan rambut?\n",
            "Bot : Baik, kakak bisa kunjungi eltase kami di https://www.tokopedia.com/garniermen/etalase/hair\n",
            "Anda : Berapa lama waktu penggunaann masker ini?\n",
            "Bot : Hai Sahabat garnier, Terima kasih telah menunggu respon kami.\n",
            "    kakak dapat mengunakan masker tersebut setelah wajah dibersihkan ya, kak.\n",
            "     Semoga informasi ini dapat membantu. Terima kasih\n",
            "Anda : serum ini isinya berapa?\n",
            "Bot : Sahabat garnier, Terima kasih sudah menunggu respon kami.\n",
            "     Saya \"Alia\" yang akan membantu kakak .\n",
            "     Produk tersebut berisi 30 ml ya, kak.\n",
            "     Semoga informasi tersebut membantu. Terima kasih.\n",
            "Anda : serum di pakai menjelang tidur?\n",
            "Bot : Hai sobat garnier, Terima kasih telah menunggu respon kami.\n",
            "     Produknya bisa digunakan setiap hari pada pagi dan malam, ya sobat.\n",
            "     Untuk pemakaian di pagi hari jangan lupa gunakan sunccreen setelahnya sobat.\n",
            "     Semoga informasi ini dapat membantu. Terima kasih.\n",
            "Anda : Min kok lama banget sih paketnya sampai?\n",
            "Bot : Hai sobat garnier, Terima kasih telah menunggu respon kami.\n",
            "     Perkenalkan saya \"Alia\" yang akan membantu kendala kakak.\n",
            "     Mohon maaf atas kendala yang kakak alami, untuk proses pengiriman hanya dilakukan expedisi yang kakak pilih, tim \"Garnier Men\" hanya memproses paking paket kakak saja.\n",
            "     Saran saya kakak bisa menghubungi pihak expedisi atau bisa melakukan komplain expedisi di Aplikasi Tokped.\n",
            "     Semoga informasi ini dapat membantu ya, sobat\n",
            "Anda : min ini barangnya sudah sampai, tapi rusak!!\n",
            "Bot : Hai sobat garnier, Terima kasih telah menunggu respon kami.\n",
            "     Perkenalkan saya \"Alia\" yang akan membantu kendala sahabat.\n",
            "     Mengenai barang yang rusak saat proses pengiriman. Untuk permasalahan ini seharusnya tanggung jawab expedisi yang dipilih saat proses pemesanan.\n",
            "     Namun jika barang sudah kalduarsa, isi produk tidak ada (gagal produk), kemasan rusak.\n",
            "     Dapat melakukan penukaran barang atau pengembalian barang, dengan memanfatkan fitur barang rusak.\n",
            "     Akan tetapi jika barang yang rusak akibat expedisi penggirim, bisa di clam asuransi penggirimannya, atau melalukan report di aplikasi ya, sahabat.\n",
            "     Semoga informasi ini dapat membantu ya, kak. Terima kasih\n",
            "Anda : Oke Terima kasih Alia\n",
            "Bot : Kalau ada masalah, hubungi aku lagi ya\n"
          ]
        }
      ]
    }
  ]
}